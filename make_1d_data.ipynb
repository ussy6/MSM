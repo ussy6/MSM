{
 "cells": [
  {
   "cell_type": "code",
   "execution_count": 1,
   "metadata": {},
   "outputs": [],
   "source": [
    "import numpy as np\n",
    "import pandas as pd\n",
    "import matplotlib.pyplot as plt\n",
    "from matplotlib.colors import Normalize # カラーバーの描画に用いる\n",
    "import cartopy.crs as ccrs\n",
    "import datetime"
   ]
  },
  {
   "cell_type": "code",
   "execution_count": 2,
   "metadata": {},
   "outputs": [],
   "source": [
    "def dataname(data_month, data_day):\n",
    "    if data_month < 10 and data_day < 10 :\n",
    "        dataname = f\"0{data_month}0{data_day}\"\n",
    "    if data_month < 10 and data_day >= 10 :\n",
    "        dataname = f\"0{data_month}{data_day}\"\n",
    "    if data_month >= 10 and data_day < 10 :\n",
    "        dataname = f\"{data_month}0{data_day}\"\n",
    "    if data_month >= 10 and data_day >= 10 :\n",
    "        dataname = f\"{data_month}{data_day}\"\n",
    "    print(dataname)\n",
    "    return(dataname)"
   ]
  },
  {
   "cell_type": "code",
   "execution_count": 4,
   "metadata": {},
   "outputs": [
    {
     "name": "stdout",
     "output_type": "stream",
     "text": [
      "0701\n",
      "['surface_pressure', 'temperature', 'humidity', 'cloud', 'psea', 'rain1h', 'lon2', 'uwind', 'vwind', 'lat2', 'y', 'm', 'd', 'h']\n"
     ]
    }
   ],
   "source": [
    "draw_year = 2023\n",
    "draw_month = 7\n",
    "draw_day = 1\n",
    "\n",
    "dn = dataname(draw_month, draw_day)\n",
    "\n",
    "loadfile = f'npz/msm_2023{dn}_s.npz' # 入力ファイル名を定義\n",
    "dataset = np.load(loadfile) # データセットはまずデータセットごと入力します\n",
    "dataname_list = dataset.files\n",
    "print(dataname_list)\n",
    "\n",
    "data = dataset[dataname_list[1]] # 気象データの代入\n",
    "lon2 = dataset['lon2'] # 経度(longitude)を変数lon2に保存（2は「2次元配列」の意味）\n",
    "lat2 = dataset['lat2'] # 緯度(latitude)を変数lat2に保存\n",
    "y = dataset['y'] # 年(year)を変数yに保存\n",
    "m = dataset['m'] # 月(month)を変数mに保存\n",
    "d = dataset['d']\n",
    "h = dataset['h']"
   ]
  },
  {
   "cell_type": "code",
   "execution_count": 8,
   "metadata": {},
   "outputs": [
    {
     "name": "stdout",
     "output_type": "stream",
     "text": [
      "0701\n",
      "0702\n",
      "0703\n",
      "0704\n",
      "0705\n",
      "0706\n",
      "0707\n",
      "0708\n",
      "0709\n",
      "0710\n",
      "0711\n",
      "0712\n",
      "0713\n",
      "0714\n",
      "0715\n",
      "0716\n",
      "0717\n",
      "0718\n",
      "0719\n",
      "0720\n",
      "0721\n",
      "0722\n",
      "0723\n",
      "0724\n",
      "0725\n",
      "0726\n",
      "0727\n",
      "0728\n",
      "0729\n",
      "0730\n",
      "0731\n"
     ]
    }
   ],
   "source": [
    "value_list = np.zeros(0)\n",
    "\n",
    "for draw_day in range(1,31+1):\n",
    "    dn = dataname(draw_month, draw_day)\n",
    "    loadfile = f'npz/msm_2023{dn}_s.npz' # 入力ファイル名を定義\n",
    "    dataset = np.load(loadfile) # データセットはまずデータセットごと入力します\n",
    "    dataname_list = dataset.files\n",
    "    # print(dataname_list)\n",
    "\n",
    "    data = dataset[dataname_list[8]] # 気象データの代入\n",
    "    lon2 = dataset['lon2'] # 経度(longitude)を変数lon2に保存（2は「2次元配列」の意味）\n",
    "    lat2 = dataset['lat2'] # 緯度(latitude)を変数lat2に保存\n",
    "    y = dataset['y'] # 年(year)を変数yに保存\n",
    "    m = dataset['m'] # 月(month)を変数mに保存\n",
    "    d = dataset['d']\n",
    "    h = dataset['h']\n",
    "\n",
    "    for i in range(0,24):\n",
    "        # value = data[392, 80, (y==draw_year)*(m==draw_month)*(d==draw_day)*(h==i)]-273.15\n",
    "        data2d = (np.squeeze(data[:, :, (y==draw_year)*(m==draw_month)*(d==draw_day)*(h==i)]))\n",
    "        # value = data2d[(lon2==144.5)*(lat2[392]>43.59)*(lat2[392]<43.61)] #　川湯アメダス付近\n",
    "        value = data2d[(lon2==144.5)*(lat2>43.55)*(lat2<43.6)] #　網走地方気象台付近\n",
    "        value_list = np.append(value_list, value)\n",
    "    \n",
    "# print(value_list)\n",
    "pd.Series(value_list).to_csv(f\"csv/vwind_43.599998474121094_144.5_20230701-20230731.csv\")"
   ]
  },
  {
   "cell_type": "code",
   "execution_count": null,
   "metadata": {},
   "outputs": [],
   "source": [
    "data2d = (np.squeeze(data[:, :, (y==draw_year)*(m==draw_month)*(d==draw_day)*(h==0)]))\n",
    "# value = data2d[(lon2==144.5)*(lat2[392]>43.59)*(lat2[392]<43.61)] #　川湯アメダス付近\n",
    "value = data2d[(lon2==144.5)*(lat2>43.55)*(lat2<43.6)] #　網走地方気象台付近\n",
    "value"
   ]
  },
  {
   "cell_type": "code",
   "execution_count": null,
   "metadata": {},
   "outputs": [],
   "source": [
    "data2d[(lon2==144.25)*(lat2>43.98)*(lat2<44.02)]"
   ]
  },
  {
   "cell_type": "code",
   "execution_count": null,
   "metadata": {},
   "outputs": [],
   "source": [
    "((lon2==144.25)*(lat2>43.98)*(lat2<44.02)).shape"
   ]
  },
  {
   "cell_type": "code",
   "execution_count": null,
   "metadata": {},
   "outputs": [],
   "source": [
    "condition = (lon2==144.5)*(lat2>43.55)*(lat2<43.6)\n",
    "print(np.unique(lat2[condition]), np.unique(lon2[condition]))\n",
    "print(lat2[condition][0], lon2[condition][0])"
   ]
  },
  {
   "cell_type": "code",
   "execution_count": null,
   "metadata": {},
   "outputs": [],
   "source": [
    "print(np.unique(lat2[(lon2>=144)*(lon2<=145)*(lat2>=43.50)*(lat2<=43.90)]), np.unique(lon2[(lon2>=144.0)*(lon2<=145)*(lat2>=43.50)*(lat2<=43.90)]))"
   ]
  },
  {
   "cell_type": "code",
   "execution_count": null,
   "metadata": {},
   "outputs": [],
   "source": [
    "data.shape"
   ]
  },
  {
   "cell_type": "code",
   "execution_count": null,
   "metadata": {},
   "outputs": [],
   "source": [
    "print(lon2[392])\n",
    "print(lat2[392])\n",
    "print(np.where((lat2[392]>43.59)*(lat2[392]<43.61)))"
   ]
  },
  {
   "cell_type": "code",
   "execution_count": null,
   "metadata": {},
   "outputs": [],
   "source": [
    "data[392, 80, (y==draw_year)*(m==draw_month)*(d==draw_day)*(h==0)]-273.15"
   ]
  },
  {
   "cell_type": "code",
   "execution_count": null,
   "metadata": {},
   "outputs": [],
   "source": [
    "lon2==144.5"
   ]
  },
  {
   "cell_type": "code",
   "execution_count": null,
   "metadata": {},
   "outputs": [],
   "source": [
    "(lon2==144.5).shape"
   ]
  },
  {
   "cell_type": "code",
   "execution_count": null,
   "metadata": {},
   "outputs": [],
   "source": [
    "np.squeeze(data[:, :, (y==draw_year)*(m==draw_month)*(d==draw_day)*(h==0)]-273.15).shape"
   ]
  },
  {
   "cell_type": "code",
   "execution_count": null,
   "metadata": {},
   "outputs": [],
   "source": [
    "(np.squeeze(data[:, :, (y==draw_year)*(m==draw_month)*(d==draw_day)*(h==0)]-273.15))[(lon2==144.5)*(lat2>43.59)*(lat2<43.61)]"
   ]
  },
  {
   "cell_type": "code",
   "execution_count": null,
   "metadata": {},
   "outputs": [],
   "source": [
    "(np.squeeze((lat2[392]>43.98)*(lat2[392]<44.02))).shape"
   ]
  },
  {
   "cell_type": "code",
   "execution_count": null,
   "metadata": {},
   "outputs": [],
   "source": [
    "lat2[np.squeeze((lat2>43.98)*(lat2<44.02))]"
   ]
  },
  {
   "cell_type": "code",
   "execution_count": null,
   "metadata": {},
   "outputs": [],
   "source": [
    "A = np.array([[1, 2, 3], [4, 2, 5], [7, 4, 9]]) #行列Aを定義する\n",
    "B = np.array([5,5,4])"
   ]
  },
  {
   "cell_type": "code",
   "execution_count": null,
   "metadata": {},
   "outputs": [],
   "source": [
    "B==4"
   ]
  },
  {
   "cell_type": "code",
   "execution_count": null,
   "metadata": {},
   "outputs": [],
   "source": [
    "A[:, B==4]"
   ]
  }
 ],
 "metadata": {
  "kernelspec": {
   "display_name": "msm_kohyama-OAaYrh5b",
   "language": "python",
   "name": "python3"
  },
  "language_info": {
   "codemirror_mode": {
    "name": "ipython",
    "version": 3
   },
   "file_extension": ".py",
   "mimetype": "text/x-python",
   "name": "python",
   "nbconvert_exporter": "python",
   "pygments_lexer": "ipython3",
   "version": "3.8.2"
  },
  "orig_nbformat": 4
 },
 "nbformat": 4,
 "nbformat_minor": 2
}
