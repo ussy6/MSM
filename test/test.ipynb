{
 "cells": [
  {
   "cell_type": "code",
   "execution_count": 1,
   "metadata": {},
   "outputs": [],
   "source": [
    "import netCDF4 as nc\n",
    "import pandas as pd\n",
    "import numpy as np\n",
    "import os\n",
    "import subprocess\n",
    "from datetime import datetime, timedelta\n",
    "import json\n",
    "import argparse"
   ]
  },
  {
   "cell_type": "code",
   "execution_count": 38,
   "metadata": {},
   "outputs": [],
   "source": [
    "nc_file = './output/netcdf/2023/0101.nc'\n",
    "variables_of_interest = ['psea', 'sp', 'u', 'v', 'temp', 'rh', 'r1h', 'ncld', 'dswrf']\n",
    "target_lat = 43.5789\n",
    "target_lon = 144.5288\n",
    "\n",
    "dataset = nc.Dataset(nc_file)\n",
    "lats = dataset.variables['lat'][:]\n",
    "lons = dataset.variables['lon'][:]\n",
    "lat_idx = np.abs(lats - target_lat).argmin()\n",
    "lon_idx = np.abs(lons - target_lon).argmin()\n",
    "data = {'time': []}\n",
    "times = dataset.variables['time'][:]\n",
    "data['time'] = nc.num2date(times, units=dataset.variables['time'].units)\n",
    "\n",
    "var = dataset.variables[variables_of_interest[2]]\n",
    "values = var[:, lat_idx, lon_idx]\n",
    "scale_factor = getattr(var, 'scale_factor', 1.0)\n",
    "add_offset = getattr(var, 'add_offset', 0.0)\n",
    "# corrected_values = values * scale_factor + add_offset\n",
    "corrected_values = values\n",
    "\n",
    "# Convert temperature to Celsius if the variable is 'temp'\n",
    "if var  == 'temp':\n",
    "    corrected_values -= 273.15  # Convert Kelvin to Celsius\n",
    "\n",
    "data[var ] = corrected_values"
   ]
  },
  {
   "cell_type": "code",
   "execution_count": 41,
   "metadata": {},
   "outputs": [
    {
     "data": {
      "text/plain": [
       "np.float64(0.006116208155)"
      ]
     },
     "execution_count": 41,
     "metadata": {},
     "output_type": "execute_result"
    }
   ],
   "source": [
    "scale_factor"
   ]
  },
  {
   "cell_type": "code",
   "execution_count": 34,
   "metadata": {},
   "outputs": [
    {
     "data": {
      "text/plain": [
       "numpy.ma.MaskedArray"
      ]
     },
     "execution_count": 34,
     "metadata": {},
     "output_type": "execute_result"
    }
   ],
   "source": [
    "type(data[var])"
   ]
  },
  {
   "cell_type": "code",
   "execution_count": 29,
   "metadata": {},
   "outputs": [
    {
     "ename": "KeyError",
     "evalue": "'u'",
     "output_type": "error",
     "traceback": [
      "\u001b[0;31m---------------------------------------------------------------------------\u001b[0m",
      "\u001b[0;31mKeyError\u001b[0m                                  Traceback (most recent call last)",
      "Cell \u001b[0;32mIn[29], line 1\u001b[0m\n\u001b[0;32m----> 1\u001b[0m \u001b[43mdata\u001b[49m\u001b[43m[\u001b[49m\u001b[38;5;124;43m'\u001b[39;49m\u001b[38;5;124;43mu\u001b[39;49m\u001b[38;5;124;43m'\u001b[39;49m\u001b[43m]\u001b[49m\n",
      "\u001b[0;31mKeyError\u001b[0m: 'u'"
     ]
    }
   ],
   "source": [
    "data['u']"
   ]
  },
  {
   "cell_type": "code",
   "execution_count": 12,
   "metadata": {},
   "outputs": [
    {
     "data": {
      "text/plain": [
       "<class 'netCDF4.Variable'>\n",
       "int16 sp(time, lat, lon)\n",
       "    scale_factor: 0.9174311758\n",
       "    add_offset: 80000.0\n",
       "    long_name: surface air pressure\n",
       "    units: Pa\n",
       "    standard_name: surface_air_pressure\n",
       "unlimited dimensions: \n",
       "current shape = (24, 505, 481)\n",
       "filling on, default _FillValue of -32767 used"
      ]
     },
     "execution_count": 12,
     "metadata": {},
     "output_type": "execute_result"
    }
   ],
   "source": [
    "var"
   ]
  },
  {
   "cell_type": "code",
   "execution_count": 33,
   "metadata": {},
   "outputs": [
    {
     "data": {
      "text/plain": [
       "numpy.ma.MaskedArray"
      ]
     },
     "execution_count": 33,
     "metadata": {},
     "output_type": "execute_result"
    }
   ],
   "source": [
    "type(values)"
   ]
  },
  {
   "cell_type": "code",
   "execution_count": 39,
   "metadata": {},
   "outputs": [
    {
     "data": {
      "text/plain": [
       "masked_array(data=[1.44342512, 1.44342512, 1.73700312, 2.12844044,\n",
       "                   2.44648326, 2.49541293, 1.97553523, 1.79204899,\n",
       "                   1.44342512, 1.49235479, 1.5718655 , 1.58409791,\n",
       "                   1.14984713, 1.21712542, 1.03975539, 0.96636089,\n",
       "                   0.88685018, 1.08868505, 1.96941903, 2.3975536 ,\n",
       "                   2.12232423, 1.39449546, 1.65749241, 1.33333338],\n",
       "             mask=False,\n",
       "       fill_value=1e+20)"
      ]
     },
     "execution_count": 39,
     "metadata": {},
     "output_type": "execute_result"
    }
   ],
   "source": [
    "corrected_values"
   ]
  },
  {
   "cell_type": "code",
   "execution_count": 40,
   "metadata": {},
   "outputs": [
    {
     "data": {
      "text/plain": [
       "masked_array(data=[1.44342512, 1.44342512, 1.73700312, 2.12844044,\n",
       "                   2.44648326, 2.49541293, 1.97553523, 1.79204899,\n",
       "                   1.44342512, 1.49235479, 1.5718655 , 1.58409791,\n",
       "                   1.14984713, 1.21712542, 1.03975539, 0.96636089,\n",
       "                   0.88685018, 1.08868505, 1.96941903, 2.3975536 ,\n",
       "                   2.12232423, 1.39449546, 1.65749241, 1.33333338],\n",
       "             mask=False,\n",
       "       fill_value=1e+20)"
      ]
     },
     "execution_count": 40,
     "metadata": {},
     "output_type": "execute_result"
    }
   ],
   "source": [
    "data[var]"
   ]
  },
  {
   "cell_type": "code",
   "execution_count": 35,
   "metadata": {},
   "outputs": [
    {
     "data": {
      "text/plain": [
       "masked_array(data=[1.44342512, 1.44342512, 1.73700312, 2.12844044,\n",
       "                   2.44648326, 2.49541293, 1.97553523, 1.79204899,\n",
       "                   1.44342512, 1.49235479, 1.5718655 , 1.58409791,\n",
       "                   1.14984713, 1.21712542, 1.03975539, 0.96636089,\n",
       "                   0.88685018, 1.08868505, 1.96941903, 2.3975536 ,\n",
       "                   2.12232423, 1.39449546, 1.65749241, 1.33333338],\n",
       "             mask=False,\n",
       "       fill_value=1e+20)"
      ]
     },
     "execution_count": 35,
     "metadata": {},
     "output_type": "execute_result"
    }
   ],
   "source": [
    "values"
   ]
  },
  {
   "cell_type": "code",
   "execution_count": 17,
   "metadata": {},
   "outputs": [],
   "source": [
    "def extract_msm_data_to_csv(nc_file, target_lat, target_lon, output_csv):\n",
    "    dataset = nc.Dataset(nc_file)\n",
    "    \n",
    "    lats = dataset.variables['lat'][:]\n",
    "    lons = dataset.variables['lon'][:]\n",
    "    \n",
    "    lat_idx = np.abs(lats - target_lat).argmin()\n",
    "    lon_idx = np.abs(lons - target_lon).argmin()\n",
    "    \n",
    "    data = {'time': []}\n",
    "    \n",
    "    times = dataset.variables['time'][:]\n",
    "    data['time'] = nc.num2date(times, units=dataset.variables['time'].units)\n",
    "    \n",
    "    variables_of_interest = ['psea', 'sp', 'u', 'v', 'temp', 'rh', 'r1h', 'ncld', 'dswrf']\n",
    "    for var_name in variables_of_interest:\n",
    "        var = dataset.variables[var_name]\n",
    "        values = var[:, lat_idx, lon_idx]\n",
    "        scale_factor = getattr(var, 'scale_factor', 1.0)\n",
    "        add_offset = getattr(var, 'add_offset', 0.0)\n",
    "        corrected_values = values * scale_factor + add_offset\n",
    "\n",
    "        # Convert temperature to Celsius if the variable is 'temp'\n",
    "        if var_name == 'temp':\n",
    "            corrected_values -= 273.15  # Convert Kelvin to Celsius\n",
    "\n",
    "        data[var_name] = corrected_values\n",
    "\n",
    "    # Calculate wind direction and speed\n",
    "    data['wind_direction'] = (270 - np.degrees(np.arctan2(data['v'], data['u']))) % 360\n",
    "    data['wind_speed'] = np.sqrt(data['u']**2 + data['v']**2)\n",
    "    \n",
    "    df = pd.DataFrame(data)\n",
    "    df.to_csv(output_csv, index=False)\n",
    "    \n",
    "    print(f\"Data successfully extracted to {output_csv}\")"
   ]
  },
  {
   "cell_type": "code",
   "execution_count": 18,
   "metadata": {},
   "outputs": [
    {
     "name": "stdout",
     "output_type": "stream",
     "text": [
      "Data successfully extracted to test.csv\n"
     ]
    }
   ],
   "source": [
    "nc_file = 'output/netcdf/2023/0101.nc'\n",
    "target_lat = 43.5789\n",
    "target_lon = 144.5288\n",
    "output_csv = 'test.csv'\n",
    "extract_msm_data_to_csv(nc_file, target_lat, target_lon, output_csv)"
   ]
  }
 ],
 "metadata": {
  "kernelspec": {
   "display_name": "Python 3",
   "language": "python",
   "name": "python3"
  },
  "language_info": {
   "codemirror_mode": {
    "name": "ipython",
    "version": 3
   },
   "file_extension": ".py",
   "mimetype": "text/x-python",
   "name": "python",
   "nbconvert_exporter": "python",
   "pygments_lexer": "ipython3",
   "version": "3.12.4"
  }
 },
 "nbformat": 4,
 "nbformat_minor": 2
}
