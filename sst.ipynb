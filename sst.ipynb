{
 "cells": [
  {
   "attachments": {},
   "cell_type": "markdown",
   "metadata": {},
   "source": [
    "https://www.is.ocha.ac.jp/~tsubasa/env_info/Lecture2.html"
   ]
  },
  {
   "cell_type": "code",
   "execution_count": 1,
   "metadata": {},
   "outputs": [],
   "source": [
    "import numpy as np\n",
    "import matplotlib.pyplot as plt\n",
    "from matplotlib.colors import Normalize # カラーバーの描画に用いる"
   ]
  },
  {
   "cell_type": "code",
   "execution_count": 2,
   "metadata": {},
   "outputs": [],
   "source": [
    "loadfile = 'sst_OISST.npz' # 入力ファイル名を定義\n",
    "sst_dataset = np.load(loadfile) # データセットはまずデータセットごと入力します"
   ]
  },
  {
   "cell_type": "code",
   "execution_count": 3,
   "metadata": {},
   "outputs": [
    {
     "data": {
      "text/plain": [
       "['sst', 'lon2', 'lat2', 'y', 'm']"
      ]
     },
     "execution_count": 3,
     "metadata": {},
     "output_type": "execute_result"
    }
   ],
   "source": [
    "sst_dataset.files"
   ]
  },
  {
   "cell_type": "code",
   "execution_count": 4,
   "metadata": {},
   "outputs": [],
   "source": [
    "sst = sst_dataset['sst'] # 海面水温(sea surface temperature)を変数sstに保存\n",
    "lon2 = sst_dataset['lon2'] # 経度(longitude)を変数lon2に保存（2は「2次元配列」の意味）\n",
    "lat2 = sst_dataset['lat2'] # 緯度(latitude)を変数lat2に保存\n",
    "y = sst_dataset['y'] # 年(year)を変数yに保存\n",
    "m = sst_dataset['m'] # 月(month)を変数mに保存"
   ]
  },
  {
   "cell_type": "code",
   "execution_count": 5,
   "metadata": {},
   "outputs": [
    {
     "name": "stdout",
     "output_type": "stream",
     "text": [
      "Variable      Type       Data/Info\n",
      "----------------------------------\n",
      "Normalize     type       <class 'matplotlib.colors.Normalize'>\n",
      "lat2          ndarray    360x180: 64800 elems, type `float64`, 518400 bytes (506.25 kb)\n",
      "loadfile      str        sst_OISST.npz\n",
      "lon2          ndarray    360x180: 64800 elems, type `float64`, 518400 bytes (506.25 kb)\n",
      "m             ndarray    456: 456 elems, type `float64`, 3648 bytes\n",
      "np            module     <module 'numpy' from '/ho<...>kages/numpy/__init__.py'>\n",
      "os            module     <module 'os' from '/home/<...>8.2/lib/python3.8/os.py'>\n",
      "plt           module     <module 'matplotlib.pyplo<...>es/matplotlib/pyplot.py'>\n",
      "sst           ndarray    360x180x456: 29548800 elems, type `float64`, 236390400 bytes (225.439453125 Mb)\n",
      "sst_dataset   NpzFile    <numpy.lib.npyio.NpzFile <...>object at 0x7fdc0c077550>\n",
      "sys           module     <module 'sys' (built-in)>\n",
      "y             ndarray    456: 456 elems, type `float64`, 3648 bytes\n"
     ]
    }
   ],
   "source": [
    "whos"
   ]
  },
  {
   "cell_type": "code",
   "execution_count": 6,
   "metadata": {},
   "outputs": [
    {
     "data": {
      "text/plain": [
       "array([[  0.5,   0.5,   0.5, ...,   0.5,   0.5,   0.5],\n",
       "       [  1.5,   1.5,   1.5, ...,   1.5,   1.5,   1.5],\n",
       "       [  2.5,   2.5,   2.5, ...,   2.5,   2.5,   2.5],\n",
       "       ...,\n",
       "       [357.5, 357.5, 357.5, ..., 357.5, 357.5, 357.5],\n",
       "       [358.5, 358.5, 358.5, ..., 358.5, 358.5, 358.5],\n",
       "       [359.5, 359.5, 359.5, ..., 359.5, 359.5, 359.5]])"
      ]
     },
     "execution_count": 6,
     "metadata": {},
     "output_type": "execute_result"
    }
   ],
   "source": [
    "lon2"
   ]
  },
  {
   "cell_type": "code",
   "execution_count": 7,
   "metadata": {},
   "outputs": [
    {
     "data": {
      "text/plain": [
       "array([[ 89.5,  88.5,  87.5, ..., -87.5, -88.5, -89.5],\n",
       "       [ 89.5,  88.5,  87.5, ..., -87.5, -88.5, -89.5],\n",
       "       [ 89.5,  88.5,  87.5, ..., -87.5, -88.5, -89.5],\n",
       "       ...,\n",
       "       [ 89.5,  88.5,  87.5, ..., -87.5, -88.5, -89.5],\n",
       "       [ 89.5,  88.5,  87.5, ..., -87.5, -88.5, -89.5],\n",
       "       [ 89.5,  88.5,  87.5, ..., -87.5, -88.5, -89.5]])"
      ]
     },
     "execution_count": 7,
     "metadata": {},
     "output_type": "execute_result"
    }
   ],
   "source": [
    "lat2"
   ]
  },
  {
   "cell_type": "code",
   "execution_count": 8,
   "metadata": {},
   "outputs": [
    {
     "data": {
      "text/plain": [
       "array([1982., 1982., 1982., 1982., 1982., 1982., 1982., 1982., 1982.,\n",
       "       1982., 1982., 1982., 1983., 1983., 1983., 1983., 1983., 1983.,\n",
       "       1983., 1983., 1983., 1983., 1983., 1983., 1984., 1984., 1984.,\n",
       "       1984., 1984., 1984., 1984., 1984., 1984., 1984., 1984., 1984.,\n",
       "       1985., 1985., 1985., 1985., 1985., 1985., 1985., 1985., 1985.,\n",
       "       1985., 1985., 1985., 1986., 1986., 1986., 1986., 1986., 1986.,\n",
       "       1986., 1986., 1986., 1986., 1986., 1986., 1987., 1987., 1987.,\n",
       "       1987., 1987., 1987., 1987., 1987., 1987., 1987., 1987., 1987.,\n",
       "       1988., 1988., 1988., 1988., 1988., 1988., 1988., 1988., 1988.,\n",
       "       1988., 1988., 1988., 1989., 1989., 1989., 1989., 1989., 1989.,\n",
       "       1989., 1989., 1989., 1989., 1989., 1989., 1990., 1990., 1990.,\n",
       "       1990., 1990., 1990., 1990., 1990., 1990., 1990., 1990., 1990.,\n",
       "       1991., 1991., 1991., 1991., 1991., 1991., 1991., 1991., 1991.,\n",
       "       1991., 1991., 1991., 1992., 1992., 1992., 1992., 1992., 1992.,\n",
       "       1992., 1992., 1992., 1992., 1992., 1992., 1993., 1993., 1993.,\n",
       "       1993., 1993., 1993., 1993., 1993., 1993., 1993., 1993., 1993.,\n",
       "       1994., 1994., 1994., 1994., 1994., 1994., 1994., 1994., 1994.,\n",
       "       1994., 1994., 1994., 1995., 1995., 1995., 1995., 1995., 1995.,\n",
       "       1995., 1995., 1995., 1995., 1995., 1995., 1996., 1996., 1996.,\n",
       "       1996., 1996., 1996., 1996., 1996., 1996., 1996., 1996., 1996.,\n",
       "       1997., 1997., 1997., 1997., 1997., 1997., 1997., 1997., 1997.,\n",
       "       1997., 1997., 1997., 1998., 1998., 1998., 1998., 1998., 1998.,\n",
       "       1998., 1998., 1998., 1998., 1998., 1998., 1999., 1999., 1999.,\n",
       "       1999., 1999., 1999., 1999., 1999., 1999., 1999., 1999., 1999.,\n",
       "       2000., 2000., 2000., 2000., 2000., 2000., 2000., 2000., 2000.,\n",
       "       2000., 2000., 2000., 2001., 2001., 2001., 2001., 2001., 2001.,\n",
       "       2001., 2001., 2001., 2001., 2001., 2001., 2002., 2002., 2002.,\n",
       "       2002., 2002., 2002., 2002., 2002., 2002., 2002., 2002., 2002.,\n",
       "       2003., 2003., 2003., 2003., 2003., 2003., 2003., 2003., 2003.,\n",
       "       2003., 2003., 2003., 2004., 2004., 2004., 2004., 2004., 2004.,\n",
       "       2004., 2004., 2004., 2004., 2004., 2004., 2005., 2005., 2005.,\n",
       "       2005., 2005., 2005., 2005., 2005., 2005., 2005., 2005., 2005.,\n",
       "       2006., 2006., 2006., 2006., 2006., 2006., 2006., 2006., 2006.,\n",
       "       2006., 2006., 2006., 2007., 2007., 2007., 2007., 2007., 2007.,\n",
       "       2007., 2007., 2007., 2007., 2007., 2007., 2008., 2008., 2008.,\n",
       "       2008., 2008., 2008., 2008., 2008., 2008., 2008., 2008., 2008.,\n",
       "       2009., 2009., 2009., 2009., 2009., 2009., 2009., 2009., 2009.,\n",
       "       2009., 2009., 2009., 2010., 2010., 2010., 2010., 2010., 2010.,\n",
       "       2010., 2010., 2010., 2010., 2010., 2010., 2011., 2011., 2011.,\n",
       "       2011., 2011., 2011., 2011., 2011., 2011., 2011., 2011., 2011.,\n",
       "       2012., 2012., 2012., 2012., 2012., 2012., 2012., 2012., 2012.,\n",
       "       2012., 2012., 2012., 2013., 2013., 2013., 2013., 2013., 2013.,\n",
       "       2013., 2013., 2013., 2013., 2013., 2013., 2014., 2014., 2014.,\n",
       "       2014., 2014., 2014., 2014., 2014., 2014., 2014., 2014., 2014.,\n",
       "       2015., 2015., 2015., 2015., 2015., 2015., 2015., 2015., 2015.,\n",
       "       2015., 2015., 2015., 2016., 2016., 2016., 2016., 2016., 2016.,\n",
       "       2016., 2016., 2016., 2016., 2016., 2016., 2017., 2017., 2017.,\n",
       "       2017., 2017., 2017., 2017., 2017., 2017., 2017., 2017., 2017.,\n",
       "       2018., 2018., 2018., 2018., 2018., 2018., 2018., 2018., 2018.,\n",
       "       2018., 2018., 2018., 2019., 2019., 2019., 2019., 2019., 2019.,\n",
       "       2019., 2019., 2019., 2019., 2019., 2019.])"
      ]
     },
     "execution_count": 8,
     "metadata": {},
     "output_type": "execute_result"
    }
   ],
   "source": [
    "y"
   ]
  },
  {
   "cell_type": "code",
   "execution_count": 9,
   "metadata": {},
   "outputs": [
    {
     "data": {
      "text/plain": [
       "array([ 1.,  2.,  3.,  4.,  5.,  6.,  7.,  8.,  9., 10., 11., 12.,  1.,\n",
       "        2.,  3.,  4.,  5.,  6.,  7.,  8.,  9., 10., 11., 12.,  1.,  2.,\n",
       "        3.,  4.,  5.,  6.,  7.,  8.,  9., 10., 11., 12.,  1.,  2.,  3.,\n",
       "        4.,  5.,  6.,  7.,  8.,  9., 10., 11., 12.,  1.,  2.,  3.,  4.,\n",
       "        5.,  6.,  7.,  8.,  9., 10., 11., 12.,  1.,  2.,  3.,  4.,  5.,\n",
       "        6.,  7.,  8.,  9., 10., 11., 12.,  1.,  2.,  3.,  4.,  5.,  6.,\n",
       "        7.,  8.,  9., 10., 11., 12.,  1.,  2.,  3.,  4.,  5.,  6.,  7.,\n",
       "        8.,  9., 10., 11., 12.,  1.,  2.,  3.,  4.,  5.,  6.,  7.,  8.,\n",
       "        9., 10., 11., 12.,  1.,  2.,  3.,  4.,  5.,  6.,  7.,  8.,  9.,\n",
       "       10., 11., 12.,  1.,  2.,  3.,  4.,  5.,  6.,  7.,  8.,  9., 10.,\n",
       "       11., 12.,  1.,  2.,  3.,  4.,  5.,  6.,  7.,  8.,  9., 10., 11.,\n",
       "       12.,  1.,  2.,  3.,  4.,  5.,  6.,  7.,  8.,  9., 10., 11., 12.,\n",
       "        1.,  2.,  3.,  4.,  5.,  6.,  7.,  8.,  9., 10., 11., 12.,  1.,\n",
       "        2.,  3.,  4.,  5.,  6.,  7.,  8.,  9., 10., 11., 12.,  1.,  2.,\n",
       "        3.,  4.,  5.,  6.,  7.,  8.,  9., 10., 11., 12.,  1.,  2.,  3.,\n",
       "        4.,  5.,  6.,  7.,  8.,  9., 10., 11., 12.,  1.,  2.,  3.,  4.,\n",
       "        5.,  6.,  7.,  8.,  9., 10., 11., 12.,  1.,  2.,  3.,  4.,  5.,\n",
       "        6.,  7.,  8.,  9., 10., 11., 12.,  1.,  2.,  3.,  4.,  5.,  6.,\n",
       "        7.,  8.,  9., 10., 11., 12.,  1.,  2.,  3.,  4.,  5.,  6.,  7.,\n",
       "        8.,  9., 10., 11., 12.,  1.,  2.,  3.,  4.,  5.,  6.,  7.,  8.,\n",
       "        9., 10., 11., 12.,  1.,  2.,  3.,  4.,  5.,  6.,  7.,  8.,  9.,\n",
       "       10., 11., 12.,  1.,  2.,  3.,  4.,  5.,  6.,  7.,  8.,  9., 10.,\n",
       "       11., 12.,  1.,  2.,  3.,  4.,  5.,  6.,  7.,  8.,  9., 10., 11.,\n",
       "       12.,  1.,  2.,  3.,  4.,  5.,  6.,  7.,  8.,  9., 10., 11., 12.,\n",
       "        1.,  2.,  3.,  4.,  5.,  6.,  7.,  8.,  9., 10., 11., 12.,  1.,\n",
       "        2.,  3.,  4.,  5.,  6.,  7.,  8.,  9., 10., 11., 12.,  1.,  2.,\n",
       "        3.,  4.,  5.,  6.,  7.,  8.,  9., 10., 11., 12.,  1.,  2.,  3.,\n",
       "        4.,  5.,  6.,  7.,  8.,  9., 10., 11., 12.,  1.,  2.,  3.,  4.,\n",
       "        5.,  6.,  7.,  8.,  9., 10., 11., 12.,  1.,  2.,  3.,  4.,  5.,\n",
       "        6.,  7.,  8.,  9., 10., 11., 12.,  1.,  2.,  3.,  4.,  5.,  6.,\n",
       "        7.,  8.,  9., 10., 11., 12.,  1.,  2.,  3.,  4.,  5.,  6.,  7.,\n",
       "        8.,  9., 10., 11., 12.,  1.,  2.,  3.,  4.,  5.,  6.,  7.,  8.,\n",
       "        9., 10., 11., 12.,  1.,  2.,  3.,  4.,  5.,  6.,  7.,  8.,  9.,\n",
       "       10., 11., 12.,  1.,  2.,  3.,  4.,  5.,  6.,  7.,  8.,  9., 10.,\n",
       "       11., 12.,  1.,  2.,  3.,  4.,  5.,  6.,  7.,  8.,  9., 10., 11.,\n",
       "       12.])"
      ]
     },
     "execution_count": 9,
     "metadata": {},
     "output_type": "execute_result"
    }
   ],
   "source": [
    "m"
   ]
  },
  {
   "cell_type": "code",
   "execution_count": 10,
   "metadata": {},
   "outputs": [
    {
     "data": {
      "text/plain": [
       "array([[-1.78999996, -1.78999996, -1.77999997, ...,         nan,\n",
       "                nan,         nan],\n",
       "       [-1.78999996, -1.78999996, -1.77999997, ...,         nan,\n",
       "                nan,         nan],\n",
       "       [-1.78999996, -1.78999996, -1.77999997, ...,         nan,\n",
       "                nan,         nan],\n",
       "       ...,\n",
       "       [-1.78999996, -1.78999996, -1.78999996, ...,         nan,\n",
       "                nan,         nan],\n",
       "       [-1.78999996, -1.78999996, -1.78999996, ...,         nan,\n",
       "                nan,         nan],\n",
       "       [-1.78999996, -1.78999996, -1.78999996, ...,         nan,\n",
       "                nan,         nan]])"
      ]
     },
     "execution_count": 10,
     "metadata": {},
     "output_type": "execute_result"
    }
   ],
   "source": [
    "sst[:, :, 0] #1982年1月は一番最初の時刻なので，3次元目の0番目を見てみる"
   ]
  },
  {
   "cell_type": "code",
   "execution_count": 11,
   "metadata": {},
   "outputs": [
    {
     "data": {
      "text/plain": [
       "array([[-1.78999996, -1.78999996, -1.78999996, ...,         nan,\n",
       "                nan,         nan],\n",
       "       [-1.78999996, -1.78999996, -1.77999997, ...,         nan,\n",
       "                nan,         nan],\n",
       "       [-1.78999996, -1.78999996, -1.77999997, ...,         nan,\n",
       "                nan,         nan],\n",
       "       ...,\n",
       "       [-1.78999996, -1.78999996, -1.78999996, ...,         nan,\n",
       "                nan,         nan],\n",
       "       [-1.78999996, -1.78999996, -1.78999996, ...,         nan,\n",
       "                nan,         nan],\n",
       "       [-1.78999996, -1.78999996, -1.78999996, ...,         nan,\n",
       "                nan,         nan]])"
      ]
     },
     "execution_count": 11,
     "metadata": {},
     "output_type": "execute_result"
    }
   ],
   "source": [
    "np.squeeze(sst[:, :, (y==1997)*(m==12)])"
   ]
  },
  {
   "cell_type": "code",
   "execution_count": 12,
   "metadata": {},
   "outputs": [
    {
     "data": {
      "image/png": "[encoded data removed]",
      "text/plain": [
       "<Figure size 640x480 with 2 Axes>"
      ]
     },
     "metadata": {},
     "output_type": "display_data"
    }
   ],
   "source": [
    "# 描画したい年・月\n",
    "draw_year = 1997\n",
    "draw_month = 12\n",
    "\n",
    "# vminはカラーバーの下限，vmaxはカラーバーの上限\n",
    "# vintはカラーバーの間隔\n",
    "vmin = -5\n",
    "vmax = 35\n",
    "vint = 5\n",
    "\n",
    "# 深い青から深い赤に向かうカラーバーを指定\n",
    "cm = plt.get_cmap('seismic') \n",
    "\n",
    "# 色で塗られた等高線を描く\n",
    "#（とりあえず自分では書き写すだけで良いので，そのうち少しずつ意味を理解してください）\n",
    "cs = plt.contourf(lon2, lat2, \\\n",
    "                  np.squeeze(sst[:, :, (y==draw_year)*(m==draw_month)]), \\\n",
    "                  cmap=cm, norm=Normalize(vmin=vmin, vmax=vmax),\\\n",
    "                  levels=np.arange(vmin,vmax+vint,vint), extend='both')  \n",
    "# \\はプログラムが長い時に用いる改行なので，一行で書くなら必要なし\n",
    "# np.squeezeは，360x180x1の配列を360x180の配列として認識させるための関数\n",
    "\n",
    "plt.colorbar(cs) # カラーバーをつける\n",
    "plt.xlabel('Longitude') # 横軸のラベル\n",
    "plt.ylabel('Latitude') # 縦軸のラベル\n",
    "title = str(draw_year) + '/' + str(draw_month) \n",
    "# タイトルの文字列をanom_titleに代入。strは，数字を文字列に直している\n",
    "plt.title(title) # タイトルをつける\n",
    "plt.xlim(0, 360) # 横軸の範囲\n",
    "plt.ylim(-90, 90) # 縦軸の範囲\n",
    "plt.show() # ここまでの条件で描画（セル末尾の実行のみ省略可能）\n"
   ]
  }
 ],
 "metadata": {
  "kernelspec": {
   "display_name": "msm_kohyama-OAaYrh5b",
   "language": "python",
   "name": "python3"
  },
  "language_info": {
   "codemirror_mode": {
    "name": "ipython",
    "version": 3
   },
   "file_extension": ".py",
   "mimetype": "text/x-python",
   "name": "python",
   "nbconvert_exporter": "python",
   "pygments_lexer": "ipython3",
   "version": "3.8.2"
  },
  "orig_nbformat": 4,
  "vscode": {
   "interpreter": {
    "hash": "7e1a6f74ca8bc343e2f6db96030c069340bf400d407a24faf50b82d65095d1a3"
   }
  }
 },
 "nbformat": 4,
 "nbformat_minor": 2
}
