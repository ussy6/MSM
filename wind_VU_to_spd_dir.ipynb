{
 "cells": [
  {
   "cell_type": "code",
   "execution_count": 1,
   "metadata": {},
   "outputs": [],
   "source": [
    "import numpy as np\n",
    "import wxparams as wx\n",
    "import pandas as pd"
   ]
  },
  {
   "cell_type": "code",
   "execution_count": 2,
   "metadata": {},
   "outputs": [
    {
     "data": {
      "text/html": [
       "<div>\n",
       "<style scoped>\n",
       "    .dataframe tbody tr th:only-of-type {\n",
       "        vertical-align: middle;\n",
       "    }\n",
       "\n",
       "    .dataframe tbody tr th {\n",
       "        vertical-align: top;\n",
       "    }\n",
       "\n",
       "    .dataframe thead th {\n",
       "        text-align: right;\n",
       "    }\n",
       "</style>\n",
       "<table border=\"1\" class=\"dataframe\">\n",
       "  <thead>\n",
       "    <tr style=\"text-align: right;\">\n",
       "      <th></th>\n",
       "      <th>Unnamed: 0</th>\n",
       "      <th>0</th>\n",
       "    </tr>\n",
       "  </thead>\n",
       "  <tbody>\n",
       "    <tr>\n",
       "      <th>0</th>\n",
       "      <td>0</td>\n",
       "      <td>1.951070</td>\n",
       "    </tr>\n",
       "    <tr>\n",
       "      <th>1</th>\n",
       "      <td>1</td>\n",
       "      <td>2.324159</td>\n",
       "    </tr>\n",
       "    <tr>\n",
       "      <th>2</th>\n",
       "      <td>2</td>\n",
       "      <td>2.605505</td>\n",
       "    </tr>\n",
       "    <tr>\n",
       "      <th>3</th>\n",
       "      <td>3</td>\n",
       "      <td>2.122324</td>\n",
       "    </tr>\n",
       "    <tr>\n",
       "      <th>4</th>\n",
       "      <td>4</td>\n",
       "      <td>2.110092</td>\n",
       "    </tr>\n",
       "    <tr>\n",
       "      <th>...</th>\n",
       "      <td>...</td>\n",
       "      <td>...</td>\n",
       "    </tr>\n",
       "    <tr>\n",
       "      <th>739</th>\n",
       "      <td>739</td>\n",
       "      <td>1.131499</td>\n",
       "    </tr>\n",
       "    <tr>\n",
       "      <th>740</th>\n",
       "      <td>740</td>\n",
       "      <td>0.868502</td>\n",
       "    </tr>\n",
       "    <tr>\n",
       "      <th>741</th>\n",
       "      <td>741</td>\n",
       "      <td>0.721713</td>\n",
       "    </tr>\n",
       "    <tr>\n",
       "      <th>742</th>\n",
       "      <td>742</td>\n",
       "      <td>0.293578</td>\n",
       "    </tr>\n",
       "    <tr>\n",
       "      <th>743</th>\n",
       "      <td>743</td>\n",
       "      <td>0.477064</td>\n",
       "    </tr>\n",
       "  </tbody>\n",
       "</table>\n",
       "<p>744 rows × 2 columns</p>\n",
       "</div>"
      ],
      "text/plain": [
       "     Unnamed: 0         0\n",
       "0             0  1.951070\n",
       "1             1  2.324159\n",
       "2             2  2.605505\n",
       "3             3  2.122324\n",
       "4             4  2.110092\n",
       "..          ...       ...\n",
       "739         739  1.131499\n",
       "740         740  0.868502\n",
       "741         741  0.721713\n",
       "742         742  0.293578\n",
       "743         743  0.477064\n",
       "\n",
       "[744 rows x 2 columns]"
      ]
     },
     "execution_count": 2,
     "metadata": {},
     "output_type": "execute_result"
    }
   ],
   "source": [
    "df_U = pd.read_csv('csv/uwind_43.599998474121094_144.5_20230701-20230731.csv')\n",
    "df_V = pd.read_csv('csv/vwind_43.599998474121094_144.5_20230701-20230731.csv')\n",
    "df_U"
   ]
  },
  {
   "cell_type": "code",
   "execution_count": null,
   "metadata": {},
   "outputs": [],
   "source": [
    "float(df_U.iloc[0,1])"
   ]
  },
  {
   "cell_type": "code",
   "execution_count": null,
   "metadata": {},
   "outputs": [],
   "source": [
    "type(float(df_U.iloc[0,1]))"
   ]
  },
  {
   "cell_type": "code",
   "execution_count": 3,
   "metadata": {},
   "outputs": [
    {
     "data": {
      "text/plain": [
       "(0      1.951070\n",
       " 1      2.324159\n",
       " 2      2.605505\n",
       " 3      2.122324\n",
       " 4      2.110092\n",
       "          ...   \n",
       " 739    1.131499\n",
       " 740    0.868502\n",
       " 741    0.721713\n",
       " 742    0.293578\n",
       " 743    0.477064\n",
       " Name: 0, Length: 744, dtype: float64,\n",
       " 0     -2.128440\n",
       " 1     -3.186544\n",
       " 2     -3.400612\n",
       " 3     -3.400612\n",
       " 4     -3.749236\n",
       "          ...   \n",
       " 739   -1.706422\n",
       " 740   -1.486239\n",
       " 741   -1.223242\n",
       " 742   -0.538226\n",
       " 743   -0.483180\n",
       " Name: 0, Length: 744, dtype: float64)"
      ]
     },
     "execution_count": 3,
     "metadata": {},
     "output_type": "execute_result"
    }
   ],
   "source": [
    "U = df_U.iloc[:,1]\n",
    "V = df_V.iloc[:,1]\n",
    "U, V"
   ]
  },
  {
   "cell_type": "code",
   "execution_count": 4,
   "metadata": {},
   "outputs": [
    {
     "data": {
      "text/plain": [
       "(0      2.887375\n",
       " 1      3.944082\n",
       " 2      4.284019\n",
       " 3      4.008543\n",
       " 4      4.302238\n",
       "          ...   \n",
       " 739    2.047478\n",
       " 740    1.721395\n",
       " 741    1.420278\n",
       " 742    0.613087\n",
       " 743    0.679009\n",
       " Name: 0, Length: 744, dtype: float64,\n",
       " 0      317.489553\n",
       " 1      323.894238\n",
       " 2      322.541132\n",
       " 3      328.031683\n",
       " 4      330.628935\n",
       "           ...    \n",
       " 739    326.452341\n",
       " 740    329.699602\n",
       " 741    329.459395\n",
       " 742    331.389540\n",
       " 743    315.364936\n",
       " Name: 0, Length: 744, dtype: float64)"
      ]
     },
     "execution_count": 4,
     "metadata": {},
     "output_type": "execute_result"
    }
   ],
   "source": [
    "Wspd, Wdir = wx.UV_to_SpdDir(U, V) # UV_to_SpdDir(U, V)\n",
    "Wspd, Wdir"
   ]
  },
  {
   "cell_type": "code",
   "execution_count": 5,
   "metadata": {},
   "outputs": [
    {
     "data": {
      "text/plain": [
       "744"
      ]
     },
     "execution_count": 5,
     "metadata": {},
     "output_type": "execute_result"
    }
   ],
   "source": [
    "size = Wspd.shape[0]\n",
    "size"
   ]
  },
  {
   "cell_type": "code",
   "execution_count": 6,
   "metadata": {},
   "outputs": [
    {
     "data": {
      "text/html": [
       "<div>\n",
       "<style scoped>\n",
       "    .dataframe tbody tr th:only-of-type {\n",
       "        vertical-align: middle;\n",
       "    }\n",
       "\n",
       "    .dataframe tbody tr th {\n",
       "        vertical-align: top;\n",
       "    }\n",
       "\n",
       "    .dataframe thead th {\n",
       "        text-align: right;\n",
       "    }\n",
       "</style>\n",
       "<table border=\"1\" class=\"dataframe\">\n",
       "  <thead>\n",
       "    <tr style=\"text-align: right;\">\n",
       "      <th></th>\n",
       "      <th>wind speed</th>\n",
       "      <th>wind direction</th>\n",
       "    </tr>\n",
       "  </thead>\n",
       "  <tbody>\n",
       "    <tr>\n",
       "      <th>0</th>\n",
       "      <td>2.887375</td>\n",
       "      <td>317.489553</td>\n",
       "    </tr>\n",
       "    <tr>\n",
       "      <th>1</th>\n",
       "      <td>3.944082</td>\n",
       "      <td>323.894238</td>\n",
       "    </tr>\n",
       "    <tr>\n",
       "      <th>2</th>\n",
       "      <td>4.284019</td>\n",
       "      <td>322.541132</td>\n",
       "    </tr>\n",
       "    <tr>\n",
       "      <th>3</th>\n",
       "      <td>4.008543</td>\n",
       "      <td>328.031683</td>\n",
       "    </tr>\n",
       "    <tr>\n",
       "      <th>4</th>\n",
       "      <td>4.302238</td>\n",
       "      <td>330.628935</td>\n",
       "    </tr>\n",
       "    <tr>\n",
       "      <th>...</th>\n",
       "      <td>...</td>\n",
       "      <td>...</td>\n",
       "    </tr>\n",
       "    <tr>\n",
       "      <th>739</th>\n",
       "      <td>2.047478</td>\n",
       "      <td>326.452341</td>\n",
       "    </tr>\n",
       "    <tr>\n",
       "      <th>740</th>\n",
       "      <td>1.721395</td>\n",
       "      <td>329.699602</td>\n",
       "    </tr>\n",
       "    <tr>\n",
       "      <th>741</th>\n",
       "      <td>1.420278</td>\n",
       "      <td>329.459395</td>\n",
       "    </tr>\n",
       "    <tr>\n",
       "      <th>742</th>\n",
       "      <td>0.613087</td>\n",
       "      <td>331.38954</td>\n",
       "    </tr>\n",
       "    <tr>\n",
       "      <th>743</th>\n",
       "      <td>0.679009</td>\n",
       "      <td>315.364936</td>\n",
       "    </tr>\n",
       "  </tbody>\n",
       "</table>\n",
       "<p>744 rows × 2 columns</p>\n",
       "</div>"
      ],
      "text/plain": [
       "    wind speed wind direction\n",
       "0     2.887375     317.489553\n",
       "1     3.944082     323.894238\n",
       "2     4.284019     322.541132\n",
       "3     4.008543     328.031683\n",
       "4     4.302238     330.628935\n",
       "..         ...            ...\n",
       "739   2.047478     326.452341\n",
       "740   1.721395     329.699602\n",
       "741   1.420278     329.459395\n",
       "742   0.613087      331.38954\n",
       "743   0.679009     315.364936\n",
       "\n",
       "[744 rows x 2 columns]"
      ]
     },
     "execution_count": 6,
     "metadata": {},
     "output_type": "execute_result"
    }
   ],
   "source": [
    "df_out = pd.DataFrame(index=range(size), columns=['wind speed', 'wind direction'])\n",
    "df_out.iloc[:,0] = Wspd\n",
    "df_out.iloc[:,1] = Wdir\n",
    "df_out"
   ]
  },
  {
   "cell_type": "code",
   "execution_count": null,
   "metadata": {},
   "outputs": [],
   "source": [
    "df_out.to_csv(f\"csv/wind-spd-dir_43.599998474121094_144.5_20230701-20230731.csv\")"
   ]
  }
 ],
 "metadata": {
  "kernelspec": {
   "display_name": "MSM-qo73lQMi",
   "language": "python",
   "name": "python3"
  },
  "language_info": {
   "codemirror_mode": {
    "name": "ipython",
    "version": 3
   },
   "file_extension": ".py",
   "mimetype": "text/x-python",
   "name": "python",
   "nbconvert_exporter": "python",
   "pygments_lexer": "ipython3",
   "version": "3.8.2"
  },
  "orig_nbformat": 4
 },
 "nbformat": 4,
 "nbformat_minor": 2
}
