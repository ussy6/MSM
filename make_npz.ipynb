{
 "cells": [
  {
   "attachments": {},
   "cell_type": "markdown",
   "metadata": {},
   "source": [
    "http://web.is.ocha.ac.jp/~tsubasa/env_info/make_npz_file_MSM.html"
   ]
  },
  {
   "cell_type": "code",
   "execution_count": 2,
   "metadata": {},
   "outputs": [],
   "source": [
    "import numpy as np\n",
    "import datetime\n",
    "import netCDF4 as nc4"
   ]
  },
  {
   "cell_type": "code",
   "execution_count": 10,
   "metadata": {},
   "outputs": [],
   "source": [
    "def makedata(data_month, data_day, dn):\n",
    "    loadfile = f'netcdf/{dn}.nc'\n",
    "    msm_data = nc4.Dataset(loadfile, 'r')\n",
    "    print(msm_data)\n",
    "    start_day = datetime.datetime(2023, data_month, data_day)\n",
    "    outputname = f'npz/msm_2023{dn}_{datatype}.npz'\n",
    "\n",
    "    if datatype == \"s\":\n",
    "        new_var = surface_pressure = msm_data.variables['sp'][:]\n",
    "        surface_pressure = surface_pressure.transpose(2, 1, 0)\n",
    "        surface_pressure = surface_pressure.astype(float)\n",
    "\n",
    "        temperature = msm_data.variables['temp'][:]\n",
    "        temperature = temperature.transpose(2, 1, 0)\n",
    "        temperature = temperature.astype(float)\n",
    "\n",
    "        humidity = msm_data.variables['rh'][:]\n",
    "        humidity = humidity.transpose(2, 1, 0)\n",
    "        humidity = humidity.astype(float)\n",
    "\n",
    "        uwind = msm_data.variables['u'][:]\n",
    "        uwind = uwind.transpose(2, 1, 0)\n",
    "        uwind = uwind.astype(float)\n",
    "\n",
    "        vwind = msm_data.variables['v'][:]\n",
    "        vwind = vwind.transpose(2, 1, 0)\n",
    "        vwind = vwind.astype(float)\n",
    "\n",
    "        rain1h = msm_data.variables['r1h'][:] # rainfall in 1 hour\n",
    "        rain1h = rain1h.transpose(2, 1, 0)\n",
    "        rain1h = rain1h.astype(float)\n",
    "\n",
    "        cloud = msm_data.variables['ncld'][:]\n",
    "        cloud = cloud.transpose(2, 1, 0)\n",
    "        cloud = cloud.astype(float)\n",
    "\n",
    "        psea = msm_data.variables['psea'][:]\n",
    "        psea = psea.transpose(2, 1, 0)\n",
    "        psea = psea.astype(float)\n",
    "\n",
    "        new_var\n",
    "\n",
    "    if datatype == \"p\":\n",
    "        new_var = surface_pressure = msm_data.variables['p'][:]\n",
    "        surface_pressure = surface_pressure.transpose(2, 1, 0)\n",
    "        surface_pressure = surface_pressure.astype(float)\n",
    "\n",
    "    [imt, jmt, tmt] = temperature.shape\n",
    "\n",
    "    lon = msm_data.variables['lon'][:]\n",
    "    lat = msm_data.variables['lat'][:]\n",
    "    [xgrid2, ygrid2] = np.meshgrid(lon, lat);\n",
    "    lon2 = (xgrid2.T).astype(float)\n",
    "    lat2 = (ygrid2.T).astype(float)\n",
    "    del lon, lat\n",
    "\n",
    "    y = np.zeros(tmt)\n",
    "    m = np.zeros(tmt)\n",
    "    d = np.zeros(tmt)\n",
    "    h = np.zeros(tmt)\n",
    "    date_offset = start_day\n",
    "    time = msm_data.variables['time'][:]\n",
    "    for tt in range(0, tmt):\n",
    "        time_data = date_offset + datetime.timedelta(hours=int(time[tt]))\n",
    "        y[tt] = time_data.year\n",
    "        m[tt] = time_data.month\n",
    "        d[tt] = time_data.day\n",
    "        h[tt] = time_data.hour\n",
    "        \n",
    "    savefile = outputname\n",
    "    np.savez(savefile, surface_pressure = surface_pressure, \\\n",
    "            temperature = temperature, humidity = humidity, \\\n",
    "            cloud = cloud, psea = psea, rain1h = rain1h, lon2=lon2, \\\n",
    "            uwind=uwind, vwind=vwind, lat2=lat2, y=y, m=m, d=d, h=h)    "
   ]
  },
  {
   "cell_type": "code",
   "execution_count": 4,
   "metadata": {},
   "outputs": [],
   "source": [
    "def dataname(data_month, data_day):\n",
    "    if data_month < 10 and data_day < 10 :\n",
    "        dataname = f\"0{data_month}0{data_day}\"\n",
    "    if data_month < 10 and data_day >= 10 :\n",
    "        dataname = f\"0{data_month}{data_day}\"\n",
    "    if data_month >= 10 and data_day < 10 :\n",
    "        dataname = f\"{data_month}0{data_day}\"\n",
    "    if data_month >= 10 and data_day >= 10 :\n",
    "        dataname = f\"{data_month}{data_day}\"\n",
    "    print(dataname)\n",
    "    return(dataname)"
   ]
  },
  {
   "cell_type": "code",
   "execution_count": 11,
   "metadata": {},
   "outputs": [
    {
     "name": "stdout",
     "output_type": "stream",
     "text": [
      "0601\n",
      "<class 'netCDF4._netCDF4.Dataset'>\n",
      "root group (NETCDF3_CLASSIC data model, file format NETCDF3):\n",
      "    Conventions: CF-1.0\n",
      "    history: created by create_1daync_msm_s.rb  2023-06-02\n",
      "    dimensions(sizes): lon(481), lat(505), time(24), ref_time(8)\n",
      "    variables(dimensions): float32 lon(lon), float32 lat(lat), float32 time(time), float32 ref_time(ref_time), int16 psea(time, lat, lon), int16 sp(time, lat, lon), int16 u(time, lat, lon), int16 v(time, lat, lon), int16 temp(time, lat, lon), int16 rh(time, lat, lon), int16 r1h(time, lat, lon), int16 ncld_upper(time, lat, lon), int16 ncld_mid(time, lat, lon), int16 ncld_low(time, lat, lon), int16 ncld(time, lat, lon), int16 dswrf(time, lat, lon)\n",
      "    groups: \n",
      "0602\n",
      "<class 'netCDF4._netCDF4.Dataset'>\n",
      "root group (NETCDF3_CLASSIC data model, file format NETCDF3):\n",
      "    Conventions: CF-1.0\n",
      "    history: created by create_1daync_msm_s.rb  2023-06-03\n",
      "    dimensions(sizes): lon(481), lat(505), time(24), ref_time(8)\n",
      "    variables(dimensions): float32 lon(lon), float32 lat(lat), float32 time(time), float32 ref_time(ref_time), int16 psea(time, lat, lon), int16 sp(time, lat, lon), int16 u(time, lat, lon), int16 v(time, lat, lon), int16 temp(time, lat, lon), int16 rh(time, lat, lon), int16 r1h(time, lat, lon), int16 ncld_upper(time, lat, lon), int16 ncld_mid(time, lat, lon), int16 ncld_low(time, lat, lon), int16 ncld(time, lat, lon), int16 dswrf(time, lat, lon)\n",
      "    groups: \n"
     ]
    }
   ],
   "source": [
    "datatype = 's'\n",
    "for data_month in [6]:\n",
    "    for data_day in range(1, 2+1):\n",
    "        dn = dataname(data_month, data_day)\n",
    "        makedata(data_month, data_day, dn)"
   ]
  },
  {
   "cell_type": "code",
   "execution_count": null,
   "metadata": {},
   "outputs": [],
   "source": [
    "date.year"
   ]
  },
  {
   "cell_type": "code",
   "execution_count": null,
   "metadata": {},
   "outputs": [],
   "source": [
    "date = datetime.datetime(2022, 2, 2, 2 ,2)\n",
    "date"
   ]
  },
  {
   "cell_type": "code",
   "execution_count": null,
   "metadata": {},
   "outputs": [],
   "source": [
    "type(date)"
   ]
  },
  {
   "cell_type": "code",
   "execution_count": null,
   "metadata": {},
   "outputs": [],
   "source": [
    "y = np.zeros(24)\n",
    "y"
   ]
  },
  {
   "cell_type": "code",
   "execution_count": null,
   "metadata": {},
   "outputs": [],
   "source": [
    "y[0]"
   ]
  },
  {
   "cell_type": "code",
   "execution_count": null,
   "metadata": {},
   "outputs": [],
   "source": [
    "msm_data = nc4.Dataset('1221.nc', 'r')"
   ]
  },
  {
   "cell_type": "code",
   "execution_count": null,
   "metadata": {},
   "outputs": [],
   "source": [
    "type(msm_data)"
   ]
  },
  {
   "cell_type": "code",
   "execution_count": null,
   "metadata": {},
   "outputs": [],
   "source": [
    "msm_data"
   ]
  },
  {
   "cell_type": "code",
   "execution_count": null,
   "metadata": {},
   "outputs": [],
   "source": [
    "surface_pressure = msm_data.variables['sp'][:]\n",
    "surface_pressure.shape"
   ]
  },
  {
   "cell_type": "code",
   "execution_count": null,
   "metadata": {},
   "outputs": [],
   "source": [
    "surface_pressure"
   ]
  },
  {
   "cell_type": "code",
   "execution_count": null,
   "metadata": {},
   "outputs": [],
   "source": [
    "surface_pressure[:,0,0]"
   ]
  },
  {
   "cell_type": "code",
   "execution_count": null,
   "metadata": {},
   "outputs": [],
   "source": [
    "temperature = msm_data.variables['temp'][:]\n",
    "temperature = temperature.transpose(2, 1, 0)\n",
    "temperature = temperature.astype(float)"
   ]
  },
  {
   "cell_type": "code",
   "execution_count": null,
   "metadata": {},
   "outputs": [],
   "source": [
    "temperature.shape"
   ]
  },
  {
   "cell_type": "code",
   "execution_count": null,
   "metadata": {},
   "outputs": [],
   "source": [
    "[imt, jmt, tmt] = temperature.shape"
   ]
  }
 ],
 "metadata": {
  "kernelspec": {
   "display_name": "msm_kohyama-OAaYrh5b",
   "language": "python",
   "name": "python3"
  },
  "language_info": {
   "codemirror_mode": {
    "name": "ipython",
    "version": 3
   },
   "file_extension": ".py",
   "mimetype": "text/x-python",
   "name": "python",
   "nbconvert_exporter": "python",
   "pygments_lexer": "ipython3",
   "version": "3.8.2"
  },
  "orig_nbformat": 4,
  "vscode": {
   "interpreter": {
    "hash": "7e1a6f74ca8bc343e2f6db96030c069340bf400d407a24faf50b82d65095d1a3"
   }
  }
 },
 "nbformat": 4,
 "nbformat_minor": 2
}
